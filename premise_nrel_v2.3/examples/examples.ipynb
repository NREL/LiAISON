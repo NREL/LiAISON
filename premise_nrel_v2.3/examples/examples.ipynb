{
 "cells": [
  {
   "cell_type": "markdown",
   "metadata": {},
   "source": [
    "# Use examples of [premise](https://github.com/romainsacchi/premise)\n",
    "\n",
    "Author: [romainsacchi](https://github.com/romainsacchi)\n",
    "\n",
    "This notebook shows examples on how to use `premise` to adapt the life cycle inventory database [ecoinvent](https://www.ecoinvent.org/) for prospective environmental impact assessment.\n",
    "\n",
    "This library extract useful information from IAM model output files (such as those of REMIND or IMAGE) and aligns inventories in the ecoinvent database accordingly.\n",
    "\n",
    "With version `2.2.0`, the following transformations are available:\n",
    "\n",
    "* `update(\"biomass\")`: creates regional biomass markets, adjusting the share of residual vs. purpose-grown biomass for use in heat and power generation\n",
    "* `update(\"battery\")`: creates a global mix of stationary and mobile battery technologies.\n",
    "* `update(\"electricity\")`: creates regional electricity markets and adjusts the efficiency of power plants, including that of photovoltaic panels\n",
    "* `update(\"cement\")`: creates regional markets for clinker production and adjusts clinker production efficiency\n",
    "* `update(\"steel\")`: creates regional markets for steel and adjusts steel production efficiency and the supply of secondary steel\n",
    "* `update(\"dac\")` creates region- and scenario-specific inventories for Direct Air Capture (DAC) and Carbon Storage (DACCS) systems.\n",
    "* `update(\"fuels\")`: creates regional markets for liquid and gaseous fuels\n",
    "* `update(\"heat\")`: regionalizes some heat and steam generation datasets (working on diesel, biomass, and natural gas)\n",
    "* `update(\"emissions\")`: adjusts emission of pollutants (PM, NOx, VOCs) for various activities based on GAINS model projections.\n",
    "* `update(\"two_wheelers\")`: imports two-wheelers (bicycles, motorbikes, etc.)\n",
    "* `update(\"cars\")`: produces fleet average cars and relinks to activities consuming passenger car transport\n",
    "* `update(\"trucks\")`: produces fleet average trucks and relinks to activities consuming lorry transport\n",
    "* `update(\"buses\")`: imports buses (urban and coach buses, single-deckers and double-deckers)\n",
    "* `update(\"trains\")`: imports buses (urban and coach buses, single-deckers and double-deckers)\n",
    "* `update(\"external\")`: runs any external scenarios provided.\n",
    "\n",
    "Alternatively, `update()` performs all the transformations mentioned above.\n",
    "\n",
    "Integration of user-defined scenarios (e.g., `update(\"external\")`) is also possible, and we have a separate notebook for this.\n",
    "\n",
    "Additional documentation on the methodology is available [here](https://premise.readthedocs.io/en/latest/introduction.html).\n",
    "\n",
    "There's also a **publication** about `premise` [here](https://www.sciencedirect.com/science/article/pii/S136403212200226X?via%3Dihub).\n",
    "\n",
    "## Requirements\n",
    "\n",
    "* **Pyhton 3.10 or higher (up to 3.11) is highly recommended**\n",
    "* a user license for ecoinvent v.3\n",
    "* a **decryption key**, to be asked from [Romain Sacchi](mailto:romain.sacchi@psi.ch)"
   ]
  },
  {
   "cell_type": "markdown",
   "metadata": {},
   "source": [
    "# Use case with [brightway2](https://brightway.dev/)\n",
    "\n",
    "`brightway2` is an open source LCA framework for Python.\n",
    "To use `premise` from `brightway2`, it requires that you have an activated `brightway2` project with a `biosphere3` database as well as an [ecoinvent](https://ecoinvent.prg) v.3 cut-off or consequential database registered in that project. Please refer to the brightway [documentation](https://brightway.dev) if you do not know how to create a project and install ecoinvent."
   ]
  },
  {
   "cell_type": "code",
   "execution_count": 3,
   "metadata": {
    "ExecuteTime": {
     "end_time": "2024-08-13T09:59:07.856284Z",
     "start_time": "2024-08-13T09:59:07.854148Z"
    }
   },
   "outputs": [],
   "source": [
    "from premise import *\n",
    "import bw2data"
   ]
  },
  {
   "cell_type": "markdown",
   "metadata": {},
   "source": [
    "### List of available scenarios\n",
    "\n",
    "Some scenarios come installed with the library.\n",
    "They are stored in `premise/data/iam_ouput_files` from the root directory.\n",
    "They are defined across different SSPs. For example, SSP2 (nicknamed \"middle of the road\"), which describes a future world (in terms of GDP and demographics development, education, intergovernmental collaboration) very much in line with what has been observed historically.\n",
    "\n",
    "But they are proposed in combination with different climate mitigation targets, called Representative Concentration Pathways (RCP).\n",
    "Read more about SSPs and RCPs, [here](https://www.carbonbrief.org/explainer-how-shared-socioeconomic-pathways-explore-future-climate-change).\n",
    "\n",
    "With REMIND, we have the following SSP/RCP scenarios:\n",
    "* \"SSP1-Base\"\n",
    "* \"SSP1-NPi\"\n",
    "* \"SSP1-NDC\"\n",
    "* \"SSP1-PkBudg1150\"\n",
    "* \"SSP1-PkBudg500\"\n",
    "* \"SSP2-Base\"\n",
    "* \"SSP2-NPi\"\n",
    "* \"SSP2-NDC\"\n",
    "* \"SSP2-PkBudg1150\"\n",
    "* \"SSP2-PkBudg500\"\n",
    "* \"SSP5-Base\"\n",
    "* \"SSP5-NPi\"\n",
    "* \"SSP5-NDC\"\n",
    "* \"SSP5-PkBudg1150\"\n",
    "* \"SSP5-PkBudg500\"\n",
    "\n",
    "With IMAGE, we have the following SSP/RCP scenarios:\n",
    "* \"SSP1-Base\"\n",
    "* \"SSP2-Base\"\n",
    "* \"SSP2-RCP26\"\n",
    "* \"SSP2-RCP19\"\n",
    "\n",
    "With TIAM-UCL, the following SSP/RCP scenarios are available:\n",
    "* \"SSP2-Base\"\n",
    "* \"SSP2-RCP45\"\n",
    "* \"SSP2-RCP26\"\n",
    "* \"SSP2-RCP19\"\n",
    "\n",
    "\n",
    "Refer to [the documentation](https://premise.readthedocs.io/en/latest/extract.html#current-iam-scenarios) for a description of theses scenarios, or have a look at our **[scenario explorer](https://premisedash-6f5a0259c487.herokuapp.com/)**.\n",
    "Additionally, [this blog](https://www.carbonbrief.org/explainer-how-shared-socioeconomic-pathways-explore-future-climate-change/) is a good reading material to understand SSPs and RCPs.\n"
   ]
  },
  {
   "cell_type": "markdown",
   "metadata": {},
   "source": [
    "### Database creation from default scenarios\n",
    "\n",
    "To create a scenario using REMIND's SSP2 Base pathway, from ecoinvent 3.10 for the year 2028, one would execute the following. This leads to the extraction of the database, some cleanup as well as importing a few additional inventories.\n",
    "\n",
    "First, activate the brightway2 project where you want to store the database."
   ]
  },
  {
   "cell_type": "code",
   "execution_count": null,
   "metadata": {},
   "outputs": [],
   "source": [
    "# activate the bw project\n",
    "bw2data.projects.set_current(\"premise\")\n",
    "# list currently installed databases\n",
    "bw2data.databases"
   ]
  },
  {
   "cell_type": "code",
   "execution_count": null,
   "metadata": {},
   "outputs": [],
   "source": [
    "ndb = NewDatabase(\n",
    "    scenarios=[\n",
    "        {\"model\":\"image\", \"pathway\":\"SSP2-RCP19\", \"year\":2050},\n",
    "        {\"model\":\"remind\", \"pathway\":\"SSP2-PkBudg500\", \"year\":2050},\n",
    "    ],\n",
    "    source_db=\"ecoinvent-3.10-cutoff\", # <-- name of the database in the BW2 project. Must be a string.\n",
    "    source_version=\"3.10\", # <-- version of ecoinvent. Can be \"3.8\", \"3.9\" or \"3.10\". Must be a string.\n",
    "    key='tUePmX_S5B8ieZkkM7WUU2CnO8SmShwmAeWK9x2rTFo=', # <-- decryption key\n",
    "    # to be requested from the library maintainers if you want ot use default scenarios included in `premise`\n",
    "    keep_source_db_uncertainty=False, # False by default, set to True if you want to keep ecoinvent's uncertainty data\n",
    "    keep_imports_uncertainty=False, # False by default, set to True if you want to keep the uncertainty data of the additional inventories\n",
    "    use_absolute_efficiency=True, # False by default, set to True if you want to use the IAM's absolute efficiencies\n",
    ")"
   ]
  },
  {
   "cell_type": "markdown",
   "metadata": {},
   "source": [
    "Here is a list of all arguments that can be passed to `NewDatabase()`:\n",
    "    \n",
    "    scenarios: List[dict], # list of scenarios to process\n",
    "    source_version: str = \"3.10\", # version of ecoinvent database. Can be \"3.6\", \"3.7\", \"3.8\", \"3.9\" or \"3.10\".\n",
    "    source_type: str = \"brightway\", # type of source database. Can be \"brightway\" or \"ecospold\".\n",
    "    key: bytes = None, # decryption key\n",
    "    source_db: str = None, # name of database if source_type is \"brightway\"\n",
    "    source_file_path: str = None, # path to ecospold files if source_type is \"ecospold\"\n",
    "    additional_inventories: List[dict] = None, # list of additional inventories to import\n",
    "    system_model: str = \"cutoff\", # system model. Can be \"cutoff\" or \"consequential\".\n",
    "    system_args: dict = None, # arguments for the \"consequential \"system model\n",
    "    use_cached_inventories: bool = True, # use cached inventories\n",
    "    use_cached_database: bool = True, # use cached database\n",
    "    quiet=False, # suppress output\n",
    "    keep_imports_uncertainty=False, # keep uncertainty data of additional inventories\n",
    "    keep_source_db_uncertainty=False, # keep uncertainty data of source database\n",
    "    gains_scenario=\"CLE\", # Air pollutionn GAINS scenario\n",
    "    use_absolute_efficiency=False, # use IAM's absolute efficiencies instead of efficiencies relative to 2020\n",
    "    biosphere_name: str = \"biosphere3\", # name of biosphere database in brightway project if different from \"biosphere3\""
   ]
  },
  {
   "cell_type": "markdown",
   "metadata": {},
   "source": [
    "The first time you create a premise database, *premise* will store a copy of the ecoinvent database and external inventories, to be able to skip that time-consuming step next time. If you wish to clear this cache (which is only encourage if updating premise or if encountering issues with inventories), do:"
   ]
  },
  {
   "cell_type": "code",
   "execution_count": null,
   "metadata": {},
   "outputs": [],
   "source": [
    "clear_cache() # clears both ecoinvent and additional inventories cache\n",
    "clear_inventory_cache() # clears only additional inventories cache"
   ]
  },
  {
   "cell_type": "markdown",
   "metadata": {},
   "source": [
    "If you do not want to integrate the IAM projections in the database, but only wish to have the additional inventories, you can stop here and export the database back to Brightway or other destinations, by using the `write_db_to` methods, like so:"
   ]
  },
  {
   "cell_type": "code",
   "execution_count": null,
   "metadata": {},
   "outputs": [],
   "source": [
    "ndb.write_db_to_brightway()"
   ]
  },
  {
   "cell_type": "markdown",
   "metadata": {},
   "source": [
    "However, if you wish first to proceed with the IAM integration, you need to use the `update()` method, like so for the electricity sector:"
   ]
  },
  {
   "cell_type": "code",
   "execution_count": null,
   "metadata": {},
   "outputs": [],
   "source": [
    "ndb.update(\"electricity\")"
   ]
  },
  {
   "cell_type": "code",
   "execution_count": null,
   "metadata": {},
   "outputs": [],
   "source": [
    "ndb.write_db_to_brightway()"
   ]
  },
  {
   "cell_type": "markdown",
   "metadata": {},
   "source": [
    "If you want to create multiple databases at once, just populate the `scenarios` list."
   ]
  },
  {
   "cell_type": "code",
   "execution_count": null,
   "metadata": {},
   "outputs": [],
   "source": [
    "ndb = NewDatabase(\n",
    "            scenarios=[\n",
    "                {\"model\":\"remind\", \"pathway\":\"SSP2-Base\", \"year\":2020},\n",
    "                {\"model\":\"remind\", \"pathway\":\"SSP2-Base\", \"year\":2030},\n",
    "                {\"model\":\"remind\", \"pathway\":\"SSP2-Base\", \"year\":2040},\n",
    "                {\"model\":\"remind\", \"pathway\":\"SSP2-Base\", \"year\":2050},\n",
    "            ],\n",
    "            source_db=\"ecoinvent 3.7 cutoff\", # <-- name of the database. Must be a string.\n",
    "            source_version=\"3.7.1\", # <-- version of ecoinvent. Can be \"3.5\", \"3.6\", \"3.7\" or \"3.7.1\"\n",
    "            key='xxxxxxxxxxxxxxxxxxxxxxxxx'\n",
    ")\n",
    "\n"
   ]
  },
  {
   "cell_type": "markdown",
   "metadata": {},
   "source": [
    "When the database is loaded and the additional inventories imported, you can apply a transformation function.\n",
    "For example here, we adjust the efficiency of the power plants to the two scenarios we have loaded.\n",
    "We go more in details later."
   ]
  },
  {
   "cell_type": "code",
   "execution_count": null,
   "metadata": {},
   "outputs": [],
   "source": [
    "ndb.update(\"electricity\")"
   ]
  },
  {
   "cell_type": "markdown",
   "metadata": {},
   "source": [
    "Or you can proceed instead to doing all the sectoral transformations available, like so:"
   ]
  },
  {
   "cell_type": "code",
   "execution_count": null,
   "metadata": {},
   "outputs": [],
   "source": [
    "ndb.update() # <- updates all sectors"
   ]
  },
  {
   "cell_type": "markdown",
   "metadata": {},
   "source": [
    "And then, we register these two databases back into brightway2."
   ]
  },
  {
   "cell_type": "code",
   "execution_count": null,
   "metadata": {},
   "outputs": [],
   "source": [
    "ndb.write_db_to_brightway()"
   ]
  },
  {
   "cell_type": "markdown",
   "metadata": {},
   "source": [
    "### Consequential\n",
    "\n",
    "`premise` can read in the consequential version of ecoinvent.\n",
    "Based on the publication of Maes et al. 2023 (https://doi.org/10.1016/j.rser.2023.113830), `premise` builds marginal market mixes for electricity and fuels.\n",
    "Passing a series of arguments to `NewDatabase()` can influence the identification of marginal suppliers.\n",
    "Additionally, `premise` removes secondary steel technologies from steel markets."
   ]
  },
  {
   "cell_type": "code",
   "execution_count": null,
   "metadata": {},
   "outputs": [],
   "source": [
    "from premise import *\n",
    "from datapackage import Package\n",
    "import brightway2 as bw\n",
    "bw.projects.set_current(\"new4\")\n",
    "\n",
    "args = {\"range time\":2, \"duration\":False, \"foresight\":False, \"lead time\":True, \"capital replacement rate\":False, \"measurement\": 0, \"weighted slope start\": 0.75, \"weighted slope end\": 1.00}\n",
    "\n",
    "ndb = NewDatabase(\n",
    "            scenarios=[\n",
    "                {\"model\":\"remind\", \"pathway\":\"SSP2-Base\", \"year\":2020},\n",
    "                {\"model\":\"remind\", \"pathway\":\"SSP2-Base\", \"year\":2030},\n",
    "                {\"model\":\"remind\", \"pathway\":\"SSP2-Base\", \"year\":2040},\n",
    "                {\"model\":\"remind\", \"pathway\":\"SSP2-Base\", \"year\":2050},\n",
    "            ],\n",
    "            source_db=\"ecoinvent 3.8 consequential\", # <-- Must point to the consequential database.\n",
    "            source_version=\"3.8\", # <-- Can only be 3.8.\n",
    "            key='xxxxxxxxxxxxxxxxxxxxxxxxx',\n",
    "            system_model=\"consequential\", # <-- Must specify \"consequential\"\n",
    "            system_model_args=args # Optional. Arguments.\n",
    ")"
   ]
  },
  {
   "cell_type": "markdown",
   "metadata": {},
   "source": [
    "### Database creation from non-default scenarios\n",
    "\n",
    "If you have some specific IAM scenarios (one that is not included in `premise`) from which you would like to build a database, you can specify the directory for those.\n",
    "\n",
    "**Important remark**: your scenario file must begin with \"remind_\" or \"image_\". When using a non-default scenario that you provide yourself, you do not have to provide a decryption key."
   ]
  },
  {
   "cell_type": "code",
   "execution_count": null,
   "metadata": {},
   "outputs": [],
   "source": [
    "from premise import *\n",
    "import bw2data\n",
    "\n",
    "bw2data.projects.set_current(\"new\")"
   ]
  },
  {
   "cell_type": "code",
   "execution_count": null,
   "metadata": {},
   "outputs": [],
   "source": [
    "ndb = NewDatabase(\n",
    "    scenarios = [{\"model\":\"newiam\", \"pathway\":\"path1-Base\", \"year\":2028,\n",
    "                  \"filepath\":\"/Users/romain/Documents\"}],        \n",
    "    source_db=\"ecoinvent 3.8 cutoff\", # <-- name of the database\n",
    "    source_version=\"3.8\", # <-- version of ecoinvent\n",
    " )"
   ]
  },
  {
   "cell_type": "markdown",
   "metadata": {},
   "source": [
    "### Adding inventories\n",
    "Upon the database extraction, you can import some of your Brightway2-compatible inventories like so:"
   ]
  },
  {
   "cell_type": "code",
   "execution_count": null,
   "metadata": {},
   "outputs": [],
   "source": [
    "ndb = NewDatabase(\n",
    "            scenarios=[\n",
    "                {\"model\":\"remind\", \"pathway\":\"SSP2-Base\", \"year\":2030},\n",
    "            ],\n",
    "            source_db=\"ecoinvent 3.7 cutoff\", \n",
    "            source_version=\"3.7.1\",\n",
    "            key='xxxxxxxxxxxxxxxxxxxxxxxxx'\n",
    "            additional_inventories= [ # <-- this is NEW\n",
    "                {\"filepath\": r\"filepath\\to\\excel_file.xlsx\", \"ecoinvent version\": \"3.7\"}, # <-- this is NEW\n",
    "                {\"filepath\": r\"filepath\\to\\another_excel_file.xlsx\", \"ecoinvent version\": \"3.7\"}, # <-- this is NEW\n",
    "            ] # <-- this is NEW\n",
    "                 )"
   ]
  },
  {
   "cell_type": "markdown",
   "metadata": {},
   "source": [
    "# Use case with ecospold2\n",
    "\n",
    "The source database does not have to be from a brightway2 project.\n",
    "It can be directly extracted from the bunch of ecospold2 files one gets when downloaded from the [ecoinvent website](https://ecoinvent.org).\n",
    "\n",
    "For this, one needs to specify the argument `source_db = \"ecospold\"` and `source_file_path`, which is the directory leading to the ecospold files.\n",
    "\n",
    "For example, here we combine the use of a specific (non-default) IAM scenario file with the use of ecospold2 files as data source (ecoinvent 3.6 in this case)."
   ]
  },
  {
   "cell_type": "code",
   "execution_count": null,
   "metadata": {},
   "outputs": [],
   "source": [
    "ndb = NewDatabase(\n",
    "        scenarios = [\n",
    "            {\"model\":\"remind\", \"pathway\":\"my_special_scenario\", \"year\":2028,\n",
    "             \"filepath\":r\"C:\\filepath\\to\\your\\scenario\\folder\"}\n",
    "        ],        \n",
    "        source_type=\"ecospold\", # <--- this is NEW\n",
    "        source_file_path=r\"C:\\filepath\\to\\your\\ecosposld\\folder\\datasets\", # <-- this is NEW\n",
    "        source_version=\"3.6\",\n",
    "    )"
   ]
  },
  {
   "cell_type": "markdown",
   "metadata": {},
   "source": [
    "# Transformation functions\n",
    "\n",
    "These functions modify the extracted database:\n",
    "\n",
    "* **update(\"biomass\")**: create scenario- and region-specific markets for biomass used for power generation. Distinguish between purpose-grown and residual biomass.\n",
    "\n",
    "* **update(\"electricity\")**: alignment of regional electricity production mixes as well as efficiencies for several electricity production technologies, including Carbon Capture and Storage technologies and photovoltaic panels.\n",
    "\n",
    "* **update(\"cement\")**: adjustment of technologies for cement production (dry, semi-dry, wet, with pre-heater or not), fuel efficiency of kilns, fuel mix of kilns (including biomass and waste fuels).\n",
    "\n",
    "* **update(\"steel\")**: adjustment of process efficiency, fuel mix and share of secondary steel in steel markets.\n",
    "\n",
    "* **update(\"dac\")**: This function creates region—and scenario-specific inventories for DAC and DACCS systems and adjusts efficiency.\n",
    "\n",
    "* **update(\"fuels\")**: This method creates regional markets for liquid and gaseous fuels and relinks consuming activities to them.\n",
    "\n",
    "* **update(\"heat\")**: This function creates regionalized versions of heat and steam production datasets and relinks them to heat-consuming activities.\n",
    "\n",
    "* **update(\"emissions\")**: adjust emission of local air pollutants according to GAINS projections.\n",
    "\n",
    "* **update(\"cars\")**: creates updated inventories for fleet average passenger cars and links back to activities that consume transport.\n",
    "\n",
    "* **update(\"trucks\")**: creates updated inventories for fleet average lorry trucks and links back to activities that consume transport.\n",
    "\n",
    "* **update(\"two_wheelers\")**: creates updated inventories for fleet average two-wheelers and links back to activities that consume transport.\n",
    "\n",
    "* **update(\"buses\")**: creates updated inventories for fleet average buses and links back to activities that consume transport.\n",
    "\n",
    "* **update(\"buses\")**: creates updated inventories for fleet average trains and links back to activities that consume transport.\n",
    "\n",
    "A look at the documentation is advised.\n",
    "\n",
    "\n",
    "These functions can be applied *separately*, *consecutively* or *altogether* (using instead **.update()** without arguments).\n",
    "\n",
    "They will apply to all the scenario-specific databases listed in `scenarios`."
   ]
  },
  {
   "cell_type": "code",
   "execution_count": null,
   "metadata": {},
   "outputs": [],
   "source": [
    "from premise import *\n",
    "import bw2data\n",
    "bw2data.projects.set_current(\"some project\")"
   ]
  },
  {
   "cell_type": "code",
   "execution_count": null,
   "metadata": {},
   "outputs": [],
   "source": [
    "ndb = NewDatabase(\n",
    "            scenarios=[\n",
    "                {'model':'remind','pathway':'SSP2-Base','year':'2020'},\n",
    "                {\"model\":\"image\", \"pathway\":\"SSP2-Base\", \"year\":2034},\n",
    "            ],\n",
    "            key='xxxxxxxxxxxxxxxxxxxxxxxxx',\n",
    "            source_db=\"ecoinvent 3.7 cutoff\",\n",
    "            source_version=\"3.7\", \n",
    ")"
   ]
  },
  {
   "cell_type": "code",
   "execution_count": null,
   "metadata": {},
   "outputs": [],
   "source": [
    "ndb.update()"
   ]
  },
  {
   "cell_type": "code",
   "execution_count": null,
   "metadata": {},
   "outputs": [],
   "source": [
    "# write back to brightway project\n",
    "ndb.write_db_to_brightway()"
   ]
  },
  {
   "cell_type": "markdown",
   "metadata": {},
   "source": [
    "You can also give your datababases a custom name."
   ]
  },
  {
   "cell_type": "code",
   "execution_count": null,
   "metadata": {},
   "outputs": [],
   "source": [
    "ndb.write_db_to_brightway(name=[\"my_custom_name_1\", \"my_custom_name_2\"])"
   ]
  },
  {
   "cell_type": "markdown",
   "metadata": {},
   "source": [
    "# Export options"
   ]
  },
  {
   "cell_type": "markdown",
   "metadata": {},
   "source": [
    "### As a Brightway2 database"
   ]
  },
  {
   "cell_type": "markdown",
   "metadata": {},
   "source": [
    "Export the modified database to brightway2"
   ]
  },
  {
   "cell_type": "code",
   "execution_count": null,
   "metadata": {},
   "outputs": [],
   "source": [
    "ndb.write_db_to_brightway()"
   ]
  },
  {
   "cell_type": "markdown",
   "metadata": {},
   "source": [
    "### As a SimaPro CSV file"
   ]
  },
  {
   "cell_type": "code",
   "execution_count": null,
   "metadata": {},
   "outputs": [],
   "source": [
    "ndb.write_db_to_simapro(filepath=r\"C:/Users/sacchi_r/Downloads/exported_simapro_file\")"
   ]
  },
  {
   "cell_type": "markdown",
   "metadata": {},
   "source": [
    "### As a CSV file for OpenLCA"
   ]
  },
  {
   "cell_type": "code",
   "execution_count": null,
   "metadata": {},
   "outputs": [],
   "source": [
    "ndb.write_db_to_olca(filepath=r\"C:/Users/sacchi_r/Downloads/exported_olca_file\")"
   ]
  },
  {
   "cell_type": "markdown",
   "metadata": {},
   "source": [
    "### As a Superstructure database\n",
    "A superstructure database is a database that can accomodate several scenarios, as described [here](https://github.com/dgdekoning/brightway-superstructure), to be then used in [Activity-Browser](https://github.com/LCA-ActivityBrowser/activity-browser).\n",
    "This function will export the superstructure database as well as produce a \"scenario difference file\". Hence, even though you create multiple scenarios, **you only need to write to disk one database**."
   ]
  },
  {
   "cell_type": "code",
   "execution_count": null,
   "metadata": {},
   "outputs": [],
   "source": [
    "ndb.write_superstructure_db_to_brightway(name=\"my_db\")"
   ]
  },
  {
   "cell_type": "markdown",
   "metadata": {},
   "source": [
    "Doing so will automatically produce the LCA of your system for each scenario contained in the \"scenario difference\" file."
   ]
  },
  {
   "cell_type": "markdown",
   "metadata": {},
   "source": [
    "![Example superstructure](example_superDB.png)"
   ]
  },
  {
   "cell_type": "markdown",
   "metadata": {},
   "source": [
    "### As a data package\n",
    "Export a data package, which can be shared. Data packages can be read by [unfold](https://github.com/polca/unfold), and databases can be reproduced on other computers provided a local copy of ecoinvent is present. This way of sharing premise databases across users respects ecoinvent's EULA."
   ]
  },
  {
   "cell_type": "code",
   "execution_count": null,
   "metadata": {},
   "outputs": [],
   "source": [
    "ndb.write_datapackage()"
   ]
  },
  {
   "cell_type": "markdown",
   "metadata": {},
   "source": [
    "### As a sparse matrix representation"
   ]
  },
  {
   "cell_type": "markdown",
   "metadata": {},
   "source": [
    "Or export it as a sparse matrix representation.\n",
    "\n",
    "This will export four files:\n",
    "\n",
    "* \"A_matrix.csv\": matrix coordinates and values of shape (index of activity; index of product; value) for the technosphere\n",
    "* \"A_matrix_index.csv\": labels for indices for A matrix of shape (name of activity, reference product, unit, location, index)\n",
    "* \"B_matrix.csv\": matrix coordinates and values of shape (index of activity; index of biosphere flow; value) for the biosphere\n",
    "* \"B_matrix_index.csv\": labels for indices for B matrix of shape (name of biosphere flow, main compartment, sub-compartmnet, unit, index)\n",
    "\n",
    "As a convenience, you can specifiy a directory where to store the exported matrices.\n",
    "If the directory does not exist, it will be created.\n",
    "If you leave it unspecified, they will be stored in **data/matrices** in the root folder of the library."
   ]
  },
  {
   "cell_type": "code",
   "execution_count": null,
   "metadata": {},
   "outputs": [],
   "source": [
    "ndb.write_db_to_matrices(filepath=r\"C:/Users/sacchi_r/Downloads/exported_matrices\")"
   ]
  },
  {
   "cell_type": "markdown",
   "metadata": {},
   "source": [
    "The exported matrices have the following columns:\n",
    "\n",
    "* \"index of activity\"\n",
    "* \"index of product\"\n",
    "* \"value\"\n",
    "* \"uncertainty type\"\n",
    "* \"loc\"\n",
    "* \"scale\"\n",
    "* \"shape\"\n",
    "* \"minimum\"\n",
    "* \"maximum\"\n",
    "* \"negative\"\n",
    "* \"flip\"\n",
    "\n",
    "Where each row is in an exchange (a technosphere exchange if looking at \"A_matrix,\" else, a biosphere exchange). These matrices comply with the data structure expected by [bw_processing](https://pypi.org/project/bw-processing/) and can therefore be read directly by [bw2calc](\"https://pypi.org/project/bw2calc/\") `2.0.x`."
   ]
  },
  {
   "cell_type": "markdown",
   "metadata": {},
   "source": [
    "Otherwise, you can also do things manually. Here is an example of how to calculate GWP scores using the set of sparse matrices\n",
    "export by `premise`."
   ]
  },
  {
   "cell_type": "code",
   "execution_count": null,
   "metadata": {},
   "outputs": [],
   "source": [
    "from scipy import sparse\n",
    "#from pypardiso import spsolve <-- use pypardiso if you use an Intel chip, it's much faster!\n",
    "from scipy.sparse.linalg import spsolve\n",
    "from pathlib import Path\n",
    "from csv import reader\n",
    "import numpy as np"
   ]
  },
  {
   "cell_type": "code",
   "execution_count": null,
   "metadata": {},
   "outputs": [],
   "source": [
    "# the directory to the set of files produced by premise\n",
    "DIR = Path(r\"/Users/romain/GitHub/premise/premise/data/export/remind/SSP2-PkBudg1150/2040\") \n",
    "\n",
    "# creates dict of activities <--> indices in A matrix\n",
    "A_inds = dict()\n",
    "with open(DIR / \"A_matrix_index.csv\", 'r') as read_obj:\n",
    "    csv_reader = reader(read_obj, delimiter=\";\")\n",
    "    for row in csv_reader:\n",
    "        A_inds[(row[0], row[1], row[2], row[3])] = row[4]\n",
    "\n",
    "A_inds_rev = {int(v):k for k, v in A_inds.items()}\n",
    "\n",
    "# creates dict of bio flow <--> indices in B matrix\n",
    "B_inds = dict()\n",
    "with open(DIR / \"B_matrix_index.csv\", 'r') as read_obj:\n",
    "    csv_reader = reader(read_obj, delimiter=\";\")\n",
    "    for row in csv_reader:\n",
    "        B_inds[(row[0], row[1], row[2], row[3])] = row[4]\n",
    "        \n",
    "B_inds_rev = {int(v):k for k, v in B_inds.items()}\n",
    "\n",
    "# create a sparse A matrix\n",
    "A_coords = np.genfromtxt(DIR / \"A_matrix.csv\", delimiter=\";\", skip_header=1)\n",
    "I = A_coords[:, 0].astype(int)\n",
    "J = A_coords[:, 1].astype(int)\n",
    "A = sparse.csr_matrix((A_coords[:,2], (J, I)))\n",
    "\n",
    "# create a sparse B matrix\n",
    "B_coords = np.genfromtxt(DIR / \"B_matrix.csv\", delimiter=\";\", skip_header=1)\n",
    "I = B_coords[:, 0].astype(int)\n",
    "J = B_coords[:, 1].astype(int)\n",
    "B = sparse.csr_matrix((B_coords[:,2] * -1, (I, J)), shape=(A.shape[0], len(B_inds)))\n",
    "\n",
    "# a vector with a few GWP CFs\n",
    "gwp = np.zeros(B.shape[1])\n",
    "gwp[[int(B_inds[x]) for x in B_inds if x[0]==\"Carbon dioxide, non-fossil, resource correction\"]] = -1\n",
    "#gwp[[int(B_inds[x]) for x in B_inds if x[0]==\"Hydrogen\"]] = 5\n",
    "gwp[[int(B_inds[x]) for x in B_inds if x[0]==\"Carbon dioxide, in air\"]] = -1\n",
    "gwp[[int(B_inds[x]) for x in B_inds if x[0]==\"Carbon dioxide, non-fossil\"]] = 1\n",
    "gwp[[int(B_inds[x]) for x in B_inds if x[0]==\"Carbon dioxide, fossil\"]] = 1\n",
    "gwp[[int(B_inds[x]) for x in B_inds if x[0]==\"Carbon dioxide, from soil or biomass stock\"]] = 1\n",
    "gwp[[int(B_inds[x]) for x in B_inds if x[0]==\"Carbon dioxide, to soil or biomass stock\"]] = -1\n",
    "gwp[[int(B_inds[x]) for x in B_inds if x[0]==\"Carbon monoxide, fossil\"]] = 4.06\n",
    "gwp[[int(B_inds[x]) for x in B_inds if x[0]==\"Methane, fossil\"]] = 29.6\n",
    "\n",
    "l_res = []\n",
    "#for v in range(0, A.shape[0]):\n",
    "# let's limit this to the first 3 activities of the matrix\n",
    "for v in range(0, 3):\n",
    "    f = np.float64(np.zeros(A.shape[0]))\n",
    "    f[v] = 1\n",
    "    A_inv = spsolve(A, f) # <-- this is too slow\n",
    "    C = A_inv * B\n",
    "    l_res.append((C * gwp).sum())"
   ]
  },
  {
   "cell_type": "markdown",
   "metadata": {},
   "source": [
    "Print the results together with the name of the activity."
   ]
  },
  {
   "cell_type": "code",
   "execution_count": null,
   "metadata": {},
   "outputs": [],
   "source": [
    "[(k, v) for k, v in zip(l_res, list(A_inds_rev.values())[:10])]"
   ]
  },
  {
   "cell_type": "markdown",
   "metadata": {},
   "source": [
    "# Incremental Database\n",
    "\n",
    "You can use the class `IncrementalDatabase` to create a `brightway` database that lets you analyze the respective contribution of sectors in the environmental score of your LCA."
   ]
  },
  {
   "cell_type": "code",
   "execution_count": null,
   "metadata": {},
   "outputs": [],
   "source": [
    "ndb = IncrementalDatabase(\n",
    "    scenarios=[\n",
    "        {\"model\":\"image\", \"pathway\":\"SSP2-RCP26\", \"year\":2040},\n",
    "        {\"model\":\"image\", \"pathway\":\"SSP2-RCP26\", \"year\":2050},\n",
    "    ],\n",
    "    source_db=\"ecoinvent-3.10-cutoff\", # <-- name of the database in the BW2 project. Must be a string.\n",
    "    source_version=\"3.10\", # <-- version of ecoinvent. Can be \"3.5\", \"3.6\", \"3.7\" or \"3.8\". Must be a string.\n",
    "    key=\"xxxxxxxxxxxxxxxxxxxxxxxxx\",\n",
    "    biosphere_name=\"ecoinvent-3.10-biosphere\",\n",
    ")"
   ]
  },
  {
   "cell_type": "markdown",
   "metadata": {},
   "source": [
    "Then, you must choose the sectors to apply and the sequence of their implementation (and groupings if so desired)."
   ]
  },
  {
   "cell_type": "code",
   "execution_count": null,
   "metadata": {},
   "outputs": [],
   "source": [
    "# in this case, we wish to apply transformations relating to \n",
    "# the electricity sector, the steel sector, as well as the \n",
    "# cement, cars and fuel sectors. However, in this example, \n",
    "# these last three will be considered altogether.\n",
    "\n",
    "sectors = {\n",
    "    \"electricity\": \"electricity\",\n",
    "    \"steel\": \"steel\",\n",
    "    \"others\": [\n",
    "        \"cement\",\n",
    "        \"cars\",\n",
    "        \"fuels\"\n",
    "    ]\n",
    "}\n",
    "\n",
    "ndb.update(sectors=sectors)"
   ]
  },
  {
   "cell_type": "code",
   "execution_count": null,
   "metadata": {},
   "outputs": [],
   "source": [
    "# we export the database to brightway and open it in Activity Browser\n",
    "# Just like a superstructure database, we load the scenario difference\n",
    "# file premise has co-produced in the calculation setup window\n",
    "# and we run an anlaysis. For more info, see how to conduct an analysis\n",
    "# with a superstructure database.\n",
    "\n",
    "ndb.write_increment_db_to_brightway(name=\"test increment\", file_format=\"csv\")"
   ]
  },
  {
   "cell_type": "markdown",
   "metadata": {},
   "source": [
    "This lets use see the influence of each sector on the score of our LCA."
   ]
  },
  {
   "cell_type": "markdown",
   "metadata": {},
   "source": [
    "![\"incremental_example\"](incremental_example.png)"
   ]
  },
  {
   "cell_type": "markdown",
   "metadata": {},
   "source": [
    "# Reports"
   ]
  },
  {
   "cell_type": "markdown",
   "metadata": {},
   "source": [
    "## Scenario report\n",
    "\n",
    "You can generate a spreadsheet report showing the main variables of the scenario you have selected to create your databases.\n",
    "The report is saved in your working directory. Note that this report is generated automatically when exporting a database."
   ]
  },
  {
   "cell_type": "code",
   "execution_count": null,
   "metadata": {},
   "outputs": [],
   "source": [
    "ndb.generate_scenario_report()"
   ]
  },
  {
   "cell_type": "markdown",
   "metadata": {},
   "source": [
    "## Changes report"
   ]
  },
  {
   "cell_type": "markdown",
   "metadata": {},
   "source": [
    "You can generate a spreadsheet report of the changes made to the original database.\n",
    "It gives an overview on:\n",
    "\n",
    "* the datasets created\n",
    "* the datasets modified\n",
    "* some performance indicators\n",
    "* scaling factors used to scale certain exchanges\n",
    "\n",
    "There is also a \"Validation\" tab that shows any datasets which contains values or efficiencies that may seem incorrect.\n",
    "\n",
    "The report is saved in your working directory. Note that this report is generated automatically when exporting a database."
   ]
  },
  {
   "cell_type": "code",
   "execution_count": null,
   "metadata": {},
   "outputs": [],
   "source": [
    "ndb.generate_change_report()"
   ]
  }
 ],
 "metadata": {
  "kernelspec": {
   "display_name": "Python 3 (ipykernel)",
   "language": "python",
   "name": "python3"
  },
  "language_info": {
   "codemirror_mode": {
    "name": "ipython",
    "version": 3
   },
   "file_extension": ".py",
   "mimetype": "text/x-python",
   "name": "python",
   "nbconvert_exporter": "python",
   "pygments_lexer": "ipython3",
   "version": "3.11.8"
  }
 },
 "nbformat": 4,
 "nbformat_minor": 4
}
