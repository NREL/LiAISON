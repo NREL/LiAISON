{
 "cells": [
  {
   "cell_type": "code",
   "execution_count": 1,
   "id": "536a04a5dcd99805",
   "metadata": {
    "ExecuteTime": {
     "end_time": "2025-05-31T19:24:42.355616Z",
     "start_time": "2025-05-31T19:24:33.871646Z"
    },
    "scrolled": true
   },
   "outputs": [
    {
     "name": "stdout",
     "output_type": "stream",
     "text": [
      "premise v.(2, 3, 0, 'dev1')\n",
      "+------------------------------------------------------------------+\n",
      "| Warning                                                          |\n",
      "+------------------------------------------------------------------+\n",
      "| Because some of the scenarios can yield LCI databases            |\n",
      "| containing net negative emission technologies (NET),             |\n",
      "| it is advised to account for biogenic CO2 flows when calculating |\n",
      "| Global Warming potential indicators.                             |\n",
      "| `premise_gwp` provides characterization factors for such flows.  |\n",
      "| It also provides factors for hydrogen emissions to air.          |\n",
      "|                                                                  |\n",
      "| Within your Brightway project:                                   |\n",
      "| from premise_gwp import add_premise_gwp                          |\n",
      "| add_premise_gwp()                                                |\n",
      "+------------------------------------------------------------------+\n",
      "+--------------------------------+----------------------------------+\n",
      "| Utils functions                | Description                      |\n",
      "+--------------------------------+----------------------------------+\n",
      "| clear_cache()                  | Clears the cache folder. Useful  |\n",
      "|                                | when updating `premise`or        |\n",
      "|                                | encountering issues with         |\n",
      "|                                | inventories.                     |\n",
      "| get_regions_definition(model)  | Retrieves the list of countries  |\n",
      "|                                | for each region of the model.    |\n",
      "| ndb.NewDatabase(...)           | Generates a summary of the most  |\n",
      "| ndb.generate_scenario_report() | important scenarios' variables.  |\n",
      "+--------------------------------+----------------------------------+\n",
      "Keep uncertainty data?\n",
      "NewDatabase(..., keep_source_db_uncertainty=True), keep_imports_uncertainty=True)\n",
      "\n",
      "Hide these messages?\n",
      "NewDatabase(..., quiet=True)\n",
      "- Extracting source database\n",
      "- Extracting inventories\n",
      "- Fetching IAM data\n",
      "The following variables are missing from the IAM file: /Users/romain/GitHub/premise/premise/data/iam_output_files/gcam_SSP2-RCP26.csv\n",
      "+----------------------------------------------------------------+\n",
      "|                            Variable                            |\n",
      "+----------------------------------------------------------------+\n",
      "| Carbon Capture|Storage|Direct Air Capture|lowtemp DAC heatpump |\n",
      "|  Carbon Capture|Storage|Direct Air Capture|hightemp DAC elec   |\n",
      "|   Carbon Capture|Storage|Direct Air Capture|hightemp DAC NG    |\n",
      "+----------------------------------------------------------------+\n",
      "The following variables are missing from the IAM file: /Users/romain/GitHub/premise/premise/data/iam_output_files/gcam_SSP2-RCP26.csv\n",
      "+----------------------------------------------------------------+\n",
      "|                            Variable                            |\n",
      "+----------------------------------------------------------------+\n",
      "| Carbon Capture|Storage|Direct Air Capture|lowtemp DAC heatpump |\n",
      "|  Carbon Capture|Storage|Direct Air Capture|hightemp DAC elec   |\n",
      "|   Carbon Capture|Storage|Direct Air Capture|hightemp DAC NG    |\n",
      "+----------------------------------------------------------------+\n",
      "Done!\n"
     ]
    }
   ],
   "source": [
    "from premise import *\n",
    "import bw2data\n",
    "bw2data.projects.set_current(\"ecoinvent-3.11-cutoff\")\n",
    "#clear_inventory_cache()\n",
    "#clear_cache()\n",
    "scenarios = [\n",
    "    {\"model\": \"gcam\", \"pathway\": \"SSP2-Base\", \"year\": 2025,},\n",
    "    {\"model\": \"gcam\", \"pathway\": \"SSP2-RCP26\", \"year\": 2035,},\n",
    "]\n",
    "\n",
    "ndb = NewDatabase(\n",
    "        scenarios=scenarios,\n",
    "        source_db=\"ecoinvent-3.11-cutoff\",\n",
    "        source_version=\"3.11\",\n",
    "        biosphere_name=\"biosphere3\",\n",
    "        key='tUePmX_S5B8ieZkkM7WUU2CnO8SmShwmAeWK9x2rTFo=',\n",
    "        keep_imports_uncertainty=True,\n",
    "        keep_source_db_uncertainty=True\n",
    ")"
   ]
  },
  {
   "cell_type": "code",
   "execution_count": 2,
   "id": "f6b6f582ed096b0e",
   "metadata": {
    "ExecuteTime": {
     "end_time": "2025-05-31T19:24:56.297176Z",
     "start_time": "2025-05-31T19:24:42.364648Z"
    }
   },
   "outputs": [
    {
     "name": "stderr",
     "output_type": "stream",
     "text": [
      "Processing scenarios for all sectors:   0%|     | 0/2 [00:00<?, ?it/s]"
     ]
    },
    {
     "name": "stdout",
     "output_type": "stream",
     "text": [
      "No buildings heat scenario data available -- skipping\n",
      "No industrial heat scenario data available -- skipping\n",
      "No DAC energy mix data available -- skipping\n",
      "No EWR energy mix data available -- skipping\n",
      "No car fleet scenario data available -- skipping\n",
      "No two-wheeler fleet scenario data available -- skipping\n",
      "No truck fleet scenario data available -- skipping\n",
      "No ship fleet scenario data available -- skipping\n",
      "No bus fleet scenario data available -- skipping\n",
      "No train fleet scenario data available -- skipping\n",
      "No final energy scenario data available -- skipping\n"
     ]
    },
    {
     "name": "stderr",
     "output_type": "stream",
     "text": [
      "Processing scenarios for all sectors:  50%|▌| 1/2 [01:22<01:22, 82.49s"
     ]
    },
    {
     "name": "stdout",
     "output_type": "stream",
     "text": [
      "No buildings heat scenario data available -- skipping\n",
      "No industrial heat scenario data available -- skipping\n",
      "No DAC energy mix data available -- skipping\n",
      "No EWR energy mix data available -- skipping\n",
      "No CDR scenario data available -- skipping\n",
      "No car fleet scenario data available -- skipping\n",
      "No two-wheeler fleet scenario data available -- skipping\n",
      "No truck fleet scenario data available -- skipping\n",
      "No ship fleet scenario data available -- skipping\n",
      "No bus fleet scenario data available -- skipping\n",
      "No train fleet scenario data available -- skipping\n",
      "No final energy scenario data available -- skipping\n"
     ]
    },
    {
     "name": "stderr",
     "output_type": "stream",
     "text": [
      "Processing scenarios for all sectors: 100%|█| 2/2 [02:44<00:00, 82.12s"
     ]
    },
    {
     "name": "stdout",
     "output_type": "stream",
     "text": [
      "Done!\n",
      "\n",
      "CPU times: user 2min 40s, sys: 3.05 s, total: 2min 43s\n",
      "Wall time: 2min 44s\n"
     ]
    },
    {
     "name": "stderr",
     "output_type": "stream",
     "text": [
      "\n"
     ]
    }
   ],
   "source": [
    "%%time\n",
    "ndb.update()"
   ]
  },
  {
   "cell_type": "code",
   "execution_count": 3,
   "id": "d121e3b8-e697-4485-bc1e-45f9dd6a7bb8",
   "metadata": {},
   "outputs": [
    {
     "name": "stdout",
     "output_type": "stream",
     "text": [
      "Write new database(s) to Brightway.\n",
      "Running all checks...\n",
      "Minor anomalies found: check the change report.\n",
      "Database ei_cutoff_3.11_gcam_SSP2-Base_2025 2025-07-24 already exists: it will be overwritten.\n",
      "Vacuuming database \n"
     ]
    },
    {
     "name": "stderr",
     "output_type": "stream",
     "text": [
      "Writing activities to SQLite3 database:\n",
      "0% [##############################] 100% | ETA: 00:00:00\n",
      "Total time elapsed: 00:00:42\n"
     ]
    },
    {
     "name": "stdout",
     "output_type": "stream",
     "text": [
      "Title: Writing activities to SQLite3 database:\n",
      "  Started: 07/24/2025 17:28:25\n",
      "  Finished: 07/24/2025 17:29:07\n",
      "  Total time elapsed: 00:00:42\n",
      "  CPU %: 91.30\n",
      "  Memory %: 5.06\n",
      "Created database: ei_cutoff_3.11_gcam_SSP2-Base_2025 2025-07-24\n",
      "Running all checks...\n",
      "Minor anomalies found: check the change report.\n"
     ]
    },
    {
     "name": "stderr",
     "output_type": "stream",
     "text": [
      "Writing activities to SQLite3 database:\n",
      "0% [##############################] 100% | ETA: 00:00:00\n",
      "Total time elapsed: 00:00:40\n"
     ]
    },
    {
     "name": "stdout",
     "output_type": "stream",
     "text": [
      "Title: Writing activities to SQLite3 database:\n",
      "  Started: 07/24/2025 17:32:15\n",
      "  Finished: 07/24/2025 17:32:55\n",
      "  Total time elapsed: 00:00:40\n",
      "  CPU %: 93.70\n",
      "  Memory %: 13.81\n",
      "Created database: ei_cutoff_3.11_gcam_SSP2-RCP26_2035 2025-07-24\n",
      "Generate scenario report.\n",
      "Report saved under /Users/romain/GitHub/premise/dev/export/scenario_report.\n",
      "Generate change report.\n",
      "Report saved under /Users/romain/GitHub/premise/dev/export/change reports/.\n"
     ]
    }
   ],
   "source": [
    "ndb.write_db_to_brightway()"
   ]
  },
  {
   "cell_type": "code",
   "execution_count": 3,
   "id": "81ac7677-1cdc-46a7-87e6-def8b0250eee",
   "metadata": {},
   "outputs": [],
   "source": [
    "from premise.activity_maps import InventorySet, debug_mapping_to_dataframe\n",
    "from premise.utils import load_database\n",
    "\n",
    "for scenario in ndb.scenarios:\n",
    "    scenario = load_database(scenario)"
   ]
  },
  {
   "cell_type": "code",
   "execution_count": 7,
   "id": "8a071964-4501-4775-9874-86d2ffc40c8a",
   "metadata": {},
   "outputs": [],
   "source": [
    "df = debug_mapping_to_dataframe(\n",
    "    scenarios[0]\n",
    ")"
   ]
  },
  {
   "cell_type": "code",
   "execution_count": 8,
   "id": "831a3803-aa84-4b8e-ae1a-eaa58c95e196",
   "metadata": {},
   "outputs": [],
   "source": [
    "df.to_excel(\"mapping.xlsx\")"
   ]
  }
 ],
 "metadata": {
  "kernelspec": {
   "display_name": "Python 3 (ipykernel)",
   "language": "python",
   "name": "python3"
  },
  "language_info": {
   "codemirror_mode": {
    "name": "ipython",
    "version": 3
   },
   "file_extension": ".py",
   "mimetype": "text/x-python",
   "name": "python",
   "nbconvert_exporter": "python",
   "pygments_lexer": "ipython3",
   "version": "3.11.12"
  }
 },
 "nbformat": 4,
 "nbformat_minor": 5
}
